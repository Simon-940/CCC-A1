{
 "cells": [
  {
   "cell_type": "code",
   "execution_count": 1,
   "id": "2857e58f-edf0-4289-935d-a734ea2038dd",
   "metadata": {},
   "outputs": [],
   "source": [
    "import numpy as np\n",
    "import pandas as pd\n",
    "import matplotlib.pyplot as plt\n",
    "import seaborn as sns\n",
    "import json\n",
    "import re"
   ]
  },
  {
   "cell_type": "code",
   "execution_count": 2,
   "id": "f13d8e6d-9a15-405f-910c-eecd3ddbb495",
   "metadata": {},
   "outputs": [],
   "source": [
    "# load twitter data\n",
    "with open('data/twitter-data-small.json', encoding='utf-8') as f:\n",
    "    tweets = json.load(f)\n",
    "\n",
    "# load location file\n",
    "with open('data/sal.json', encoding='utf-8') as f:\n",
    "    locations = json.load(f)"
   ]
  },
  {
   "cell_type": "markdown",
   "id": "3f1bca32-b603-417d-88fa-2a99fd2802a8",
   "metadata": {},
   "source": [
    "## Task 1- Count the number of tweets in each capital city and rank by most to least"
   ]
  },
  {
   "cell_type": "code",
   "execution_count": 5,
   "id": "75fc7cfb-f71c-42b5-b45a-8539d675ec58",
   "metadata": {},
   "outputs": [
    {
     "data": {
      "text/plain": [
       "{'1gsyd': 216,\n",
       " '2gmel': 129,\n",
       " '5gper': 71,\n",
       " '3gbri': 46,\n",
       " '4gade': 20,\n",
       " '8acte': 14,\n",
       " '6ghob': 7,\n",
       " '7gdar': 4}"
      ]
     },
     "execution_count": 5,
     "metadata": {},
     "output_type": "execute_result"
    }
   ],
   "source": [
    "capital_cities = {\n",
    "    '1gsyd': 0,\n",
    "    '2gmel': 0,\n",
    "    '3gbri': 0,\n",
    "    '4gade': 0,\n",
    "    '5gper': 0,\n",
    "    '6ghob': 0,\n",
    "    '7gdar': 0,\n",
    "    '8acte': 0,        \n",
    "    }\n",
    "\n",
    "irrelevant_areas = ['1rnsw', '2rvic', '3rqld', '4rsau', '5rwau', '6rtas', '7rnte', '9oter']\n",
    "\n",
    "# take the city before the comma in full_name, iterate thru the locations and see if can match\n",
    "for tweet in tweets:    \n",
    "    # regex to extract the relevant precise location\n",
    "    place = tweet['includes']['places'][0]['full_name'].lower()     \n",
    "    matches = re.findall(r'\\S+(?:\\s+\\S+)*(?=,)', place)    \n",
    "    place = ''.join(matches)\n",
    "    \n",
    "    for city in locations:\n",
    "        # check if the place from tweet matches anything in the locations data. If not from irrelevant area and match, increment count\n",
    "        if place == city and locations[city]['gcc'] not in irrelevant_areas:\n",
    "            capital_cities[locations[place]['gcc']] += 1\n",
    "\n",
    "# sort by highest to lowest\n",
    "top_cities = dict(sorted(capital_cities.items(), key=lambda item: item[1], reverse=True))\n",
    "top_cities"
   ]
  },
  {
   "cell_type": "markdown",
   "id": "713a59fc-bfb0-477c-b45f-fed7f7cbc003",
   "metadata": {},
   "source": [
    "## Task 2- Count the number of tweets made by each twitter user and rank by most to least"
   ]
  },
  {
   "cell_type": "code",
   "execution_count": 6,
   "id": "9f726e3e-ff39-45cf-a774-e3e3aea4fe7b",
   "metadata": {},
   "outputs": [
    {
     "data": {
      "text/plain": [
       "715"
      ]
     },
     "execution_count": 6,
     "metadata": {},
     "output_type": "execute_result"
    }
   ],
   "source": [
    "# NOTE: even tho spec doesnt specify that rural areas will be ignored, ED discussion forum says we ignore it\n",
    "tweeters = {}\n",
    "\n",
    "for tweet in tweets:\n",
    "    if tweet['_id'] not in tweeters:\n",
    "        tweeters[tweet['_id']] = 1\n",
    "    else:\n",
    "        tweeters[tweet['_id']] += 1\n",
    "\n",
    "top_tweeters = dict(sorted(tweeters.items(), key=lambda item: item[1], reverse=True))\n",
    "\n",
    "# all tweet ids are unique in dictionary\n",
    "len(top_tweeters)\n",
    "len(set(top_tweeters.keys()))"
   ]
  },
  {
   "cell_type": "code",
   "execution_count": null,
   "id": "07ffe24b",
   "metadata": {},
   "outputs": [],
   "source": []
  }
 ],
 "metadata": {
  "kernelspec": {
   "display_name": "Python 3 (ipykernel)",
   "language": "python",
   "name": "python3"
  },
  "language_info": {
   "codemirror_mode": {
    "name": "ipython",
    "version": 3
   },
   "file_extension": ".py",
   "mimetype": "text/x-python",
   "name": "python",
   "nbconvert_exporter": "python",
   "pygments_lexer": "ipython3",
   "version": "3.9.7"
  }
 },
 "nbformat": 4,
 "nbformat_minor": 5
}
