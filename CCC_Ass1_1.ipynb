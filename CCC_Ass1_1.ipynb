{
 "cells": [
  {
   "cell_type": "code",
   "execution_count": 1,
   "id": "2857e58f-edf0-4289-935d-a734ea2038dd",
   "metadata": {},
   "outputs": [],
   "source": [
    "import numpy as np\n",
    "import pandas as pd\n",
    "import matplotlib.pyplot as plt\n",
    "import seaborn as sns\n",
    "import json\n",
    "import re"
   ]
  },
  {
   "cell_type": "code",
   "execution_count": 2,
   "id": "f13d8e6d-9a15-405f-910c-eecd3ddbb495",
   "metadata": {},
   "outputs": [],
   "source": [
    "# load twitter data\n",
    "with open('data/twitter-data-small.json', encoding='utf-8') as f:\n",
    "    tweets = json.load(f)\n",
    "\n",
    "# load location file\n",
    "with open('data/sal.json', encoding='utf-8') as f:\n",
    "    locations = json.load(f)"
   ]
  },
  {
   "cell_type": "code",
   "execution_count": 3,
   "id": "a2293f5e",
   "metadata": {},
   "outputs": [],
   "source": [
    "class Tweet():\n",
    "    def __init__(self, tweet) -> None:\n",
    "        self.set_tweet_data(tweet)\n",
    "        \n",
    "    def set_tweet_data(self,tweet):\n",
    "        # extract place and author id from tweet json\n",
    "        place = tweet['includes']['places'][0]['full_name'].lower()     \n",
    "        matches = re.findall(r'\\S+(?:\\s+\\S+)*(?=,)', place)    \n",
    "        place = ''.join(matches)\n",
    "        self.place = place\n",
    "        \n",
    "        self.author = tweet['_id']\n",
    "    \n",
    "    def get_place(self):\n",
    "        return self.place\n",
    "    \n",
    "    def get_author(self):\n",
    "        return self.author"
   ]
  },
  {
   "attachments": {},
   "cell_type": "markdown",
   "id": "803b6a82",
   "metadata": {},
   "source": [
    "# Task Combined"
   ]
  },
  {
   "cell_type": "code",
   "execution_count": 6,
   "id": "1f1b1802",
   "metadata": {},
   "outputs": [
    {
     "name": "stdout",
     "output_type": "stream",
     "text": [
      "{'1gsyd': 216, '2gmel': 129, '5gper': 71, '3gbri': 46, '4gade': 20, '8acte': 14, '6ghob': 7, '7gdar': 4, '9oter': 0}\n",
      "[('1412192437640916992', (1, {'1gsyd': 1})), ('1412197721105108994', (1, {'1gsyd': 1})), ('1412195208792449025', (1, {'1gsyd': 1})), ('1412185770241052672', (1, {'1gsyd': 1})), ('1412185638904889346', (1, {'1gsyd': 1})), ('1412184906029961219', (1, {'1gsyd': 1})), ('1412184968730529798', (1, {'1gsyd': 1})), ('1412184990499049473', (1, {'1gsyd': 1})), ('1412185143083556866', (1, {'1gsyd': 1})), ('1412185211400425476', (1, {'1gsyd': 1}))]\n",
      "[('1412192437640916992', (1, {'1gsyd': 1})), ('1412197721105108994', (1, {'1gsyd': 1})), ('1412195208792449025', (1, {'1gsyd': 1})), ('1412185770241052672', (1, {'1gsyd': 1})), ('1412185638904889346', (1, {'1gsyd': 1})), ('1412184906029961219', (1, {'1gsyd': 1})), ('1412184968730529798', (1, {'1gsyd': 1})), ('1412184990499049473', (1, {'1gsyd': 1})), ('1412185143083556866', (1, {'1gsyd': 1})), ('1412185211400425476', (1, {'1gsyd': 1}))]\n"
     ]
    }
   ],
   "source": [
    "capital_cities = {\n",
    "    '1gsyd': 0,\n",
    "    '2gmel': 0,\n",
    "    '3gbri': 0,\n",
    "    '4gade': 0,\n",
    "    '5gper': 0,\n",
    "    '6ghob': 0,\n",
    "    '7gdar': 0,\n",
    "    '8acte': 0,\n",
    "    '9oter': 0,       \n",
    "    }\n",
    "\n",
    "irrelevant_areas = ['1rnsw', '2rvic', '3rqld', '4rsau', '5rwau', '6rtas', '7rnte']\n",
    "\n",
    "tweeters = {}\n",
    "\n",
    "for tweet in tweets:\n",
    "    t = Tweet(tweet)\n",
    "    city = t.get_place()\n",
    "    id = t.get_author()\n",
    "    # check if the place from tweet matches anything in the locations data. If not from irrelevant area and match, increment count\n",
    "    if city in locations and locations[city]['gcc'] not in irrelevant_areas:\n",
    "        gcc_code = locations[city]['gcc']\n",
    "        capital_cities[gcc_code] += 1\n",
    "        if id not in tweeters:\n",
    "            # (# of tweets the user made, count for each city)\n",
    "            tweeters[id] = (1, {gcc_code: 1})\n",
    "        else:\n",
    "            tweeters[id][0] += 1\n",
    "            # add if city already exist\n",
    "            if tweeters[id][1][gcc_code]:\n",
    "                tweeters[id][1][gcc_code] += 1\n",
    "            else:\n",
    "                tweeters[id][1][gcc_code] = 1\n",
    "                \n",
    "    \n",
    "\n",
    "# t1\n",
    "top_cities = dict(sorted(capital_cities.items(), key=lambda item: item[1], reverse=True))\n",
    "print(top_cities)\n",
    "\n",
    "# t2\n",
    "t2top_tweeters = sorted(tweeters.items(), key=lambda item: item[1][0], reverse=True)[:10]\n",
    "print(t2top_tweeters)\n",
    "\n",
    "# t3\n",
    "t3top_tweeters = sorted(tweeters.items(), key=lambda item: len(item[1][1]), reverse=True)[:10]\n",
    "print(t3top_tweeters)"
   ]
  },
  {
   "cell_type": "markdown",
   "id": "3f1bca32-b603-417d-88fa-2a99fd2802a8",
   "metadata": {},
   "source": [
    "## Task 1- Count the number of tweets in each capital city and rank by most to least"
   ]
  },
  {
   "cell_type": "code",
   "execution_count": 5,
   "id": "75fc7cfb-f71c-42b5-b45a-8539d675ec58",
   "metadata": {},
   "outputs": [
    {
     "ename": "TypeError",
     "evalue": "__init__() missing 1 required positional argument: 'tweet'",
     "output_type": "error",
     "traceback": [
      "\u001b[0;31m---------------------------------------------------------------------------\u001b[0m",
      "\u001b[0;31mTypeError\u001b[0m                                 Traceback (most recent call last)",
      "Cell \u001b[0;32mIn[5], line 16\u001b[0m\n\u001b[1;32m     14\u001b[0m \u001b[39m# take the city before the comma in full_name, iterate thru the locations and see if can match\u001b[39;00m\n\u001b[1;32m     15\u001b[0m \u001b[39mfor\u001b[39;00m tweet \u001b[39min\u001b[39;00m tweets:    \n\u001b[0;32m---> 16\u001b[0m     t \u001b[39m=\u001b[39m Tweet()\n\u001b[1;32m     17\u001b[0m     t\u001b[39m.\u001b[39mset_tweet_data(tweet)\n\u001b[1;32m     18\u001b[0m     city \u001b[39m=\u001b[39m t\u001b[39m.\u001b[39mget_place()\n",
      "\u001b[0;31mTypeError\u001b[0m: __init__() missing 1 required positional argument: 'tweet'"
     ]
    }
   ],
   "source": [
    "capital_cities = {\n",
    "    '1gsyd': 0,\n",
    "    '2gmel': 0,\n",
    "    '3gbri': 0,\n",
    "    '4gade': 0,\n",
    "    '5gper': 0,\n",
    "    '6ghob': 0,\n",
    "    '7gdar': 0,\n",
    "    '8acte': 0,        \n",
    "    }\n",
    "\n",
    "irrelevant_areas = ['1rnsw', '2rvic', '3rqld', '4rsau', '5rwau', '6rtas', '7rnte', '9oter']\n",
    "\n",
    "# take the city before the comma in full_name, iterate thru the locations and see if can match\n",
    "for tweet in tweets:    \n",
    "    t = Tweet()\n",
    "    t.set_tweet_data(tweet)\n",
    "    city = t.get_place()\n",
    "    id = t.get_author()\n",
    "    # check if the place from tweet matches anything in the locations data. If not from irrelevant area and match, increment count\n",
    "    if city in locations and locations[city]['gcc'] not in irrelevant_areas:\n",
    "        capital_cities[locations[city]['gcc']] += 1\n",
    "\n",
    "# sort by highest to lowest\n",
    "top_cities = dict(sorted(capital_cities.items(), key=lambda item: item[1], reverse=True))\n",
    "top_cities"
   ]
  },
  {
   "cell_type": "markdown",
   "id": "713a59fc-bfb0-477c-b45f-fed7f7cbc003",
   "metadata": {},
   "source": [
    "## Task 2- Count the number of tweets made by each twitter user and rank by most to least"
   ]
  },
  {
   "cell_type": "code",
   "execution_count": 16,
   "id": "9f726e3e-ff39-45cf-a774-e3e3aea4fe7b",
   "metadata": {},
   "outputs": [
    {
     "data": {
      "text/plain": [
       "715"
      ]
     },
     "execution_count": 16,
     "metadata": {},
     "output_type": "execute_result"
    }
   ],
   "source": [
    "# NOTE: even tho spec doesnt specify that rural areas will be ignored, ED discussion forum says we ignore it\n",
    "tweeters = {}\n",
    "\n",
    "for tweet in tweets:\n",
    "    if tweet['_id'] not in tweeters:\n",
    "        tweeters[tweet['_id']] = 1\n",
    "    else:\n",
    "        tweeters[tweet['_id']] += 1\n",
    "# TODO: we don't need to covert to dict??\n",
    "top_tweeters = dict(sorted(tweeters.items(), key=lambda item: item[1], reverse=True))\n",
    "\n",
    "# all tweet ids are unique in dictionary\n",
    "len(top_tweeters)\n",
    "len(set(top_tweeters.keys()))"
   ]
  },
  {
   "attachments": {},
   "cell_type": "markdown",
   "id": "72183e4e",
   "metadata": {},
   "source": [
    "## Task 3- Count the number of tweets made by each twitter user in certain cities and rank by number of most distinct cities"
   ]
  },
  {
   "cell_type": "code",
   "execution_count": 17,
   "id": "c2c25e34",
   "metadata": {},
   "outputs": [
    {
     "data": {
      "text/plain": [
       "[('1412194546075635721', (1, {'8acte': 1})),\n",
       " ('1412195093939818500', (1, {'8acte': 1})),\n",
       " ('1412196248912760835', (1, {'8acte': 1})),\n",
       " ('1412197623805603840', (1, {'8acte': 1})),\n",
       " ('1412198117932371969', (1, {'8acte': 1})),\n",
       " ('1412198454407794689', (1, {'8acte': 1})),\n",
       " ('1412185329184821253', (1, {'8acte': 1})),\n",
       " ('1412190755452424209', (1, {'8acte': 1})),\n",
       " ('1412197569585848320', (1, {'8acte': 1}))]"
      ]
     },
     "execution_count": 17,
     "metadata": {},
     "output_type": "execute_result"
    }
   ],
   "source": [
    "def get_place(tweet):\n",
    "    # regex to extract the relevant precise location\n",
    "    place = tweet['includes']['places'][0]['full_name'].lower()     \n",
    "    matches = re.findall(r'\\S+(?:\\s+\\S+)*(?=,)', place)    \n",
    "    return ''.join(matches)\n",
    "\n",
    "tweeters = {}\n",
    "for tweet in tweets:\n",
    "    if tweet['_id'] not in tweeters:\n",
    "        place = get_place(tweet)\n",
    "        for city in locations:\n",
    "            # check if the place from tweet matches anything in the locations data. If not from irrelevant area and match, increment count\n",
    "            if place == city and locations[city]['gcc'] not in irrelevant_areas:\n",
    "                # (# of tweets the user made, count for each city)\n",
    "                tweeters[tweet['_id']] = (1,{})\n",
    "                # insert when there is a new place\n",
    "                tweeters[tweet['_id']][1][locations[place]['gcc']] = 1\n",
    "\n",
    "    else:\n",
    "        place = get_place(tweet)\n",
    "        for city in locations:\n",
    "            # check if the place from tweet matches anything in the locations data. If not from irrelevant area and match, increment count\n",
    "            if place == city and locations[city]['gcc'] not in irrelevant_areas:\n",
    "                tweeters[tweet['_id']][0] += 1\n",
    "                if tweeters[tweet['_id']][1][locations[place]['gcc']]:\n",
    "                    # add if exist\n",
    "                    tweeters[tweet['_id']][1][locations[place]['gcc']] += 1\n",
    "                else:\n",
    "                    # insert when there is a new place\n",
    "                    tweeters[tweet['_id']][1][locations[place]['gcc']] = 1\n",
    "\n",
    "top_tweeters = sorted(tweeters.items(), key=lambda item: len(item[1][1]), reverse=True)\n",
    "top_tweeters[-9:]\n",
    "# TODO: create tweet class and location class"
   ]
  }
 ],
 "metadata": {
  "kernelspec": {
   "display_name": "Python 3 (ipykernel)",
   "language": "python",
   "name": "python3"
  },
  "language_info": {
   "codemirror_mode": {
    "name": "ipython",
    "version": 3
   },
   "file_extension": ".py",
   "mimetype": "text/x-python",
   "name": "python",
   "nbconvert_exporter": "python",
   "pygments_lexer": "ipython3",
   "version": "3.8.10"
  }
 },
 "nbformat": 4,
 "nbformat_minor": 5
}
